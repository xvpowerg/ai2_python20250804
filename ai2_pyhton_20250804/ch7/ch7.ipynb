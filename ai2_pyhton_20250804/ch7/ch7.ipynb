{
 "cells": [
  {
   "cell_type": "markdown",
   "id": "cbe24d02",
   "metadata": {},
   "source": [
    "## 練習1:代數展開\n",
    "公式：\n",
    "\n",
    "$[ (x + y)^3 ]$\n",
    "\n",
    "$ x^{3} + 3 x^{2} y + 3 x y^{2} + y^{3} $"
   ]
  },
  {
   "cell_type": "code",
   "execution_count": 4,
   "id": "5c1b14a6",
   "metadata": {},
   "outputs": [
    {
     "name": "stdout",
     "output_type": "stream",
     "text": [
      "x**3 + 3*x**2*y + 3*x*y**2 + y**3\n",
      "x^{3} + 3 x^{2} y + 3 x y^{2} + y^{3}\n"
     ]
    },
    {
     "data": {
      "text/latex": [
       "$\\displaystyle x^{3} + 3 x^{2} y + 3 x y^{2} + y^{3}$"
      ],
      "text/plain": [
       "<IPython.core.display.Math object>"
      ]
     },
     "metadata": {},
     "output_type": "display_data"
    }
   ],
   "source": [
    "import sympy as sp\n",
    "from IPython.display import display,Math\n",
    "x,y = sp.symbols(\"x y\")\n",
    "expr1 = (x + y) ** 3\n",
    "expand_expr1 = sp.expand(expr1)\n",
    "print(expand_expr1)\n",
    "print(sp.latex(expand_expr1))\n",
    "mathObj = Math(\"x^{3} + 3 x^{2} y + 3 x y^{2} + y^{3}\")\n",
    "display(mathObj)"
   ]
  },
  {
   "cell_type": "markdown",
   "id": "5692f524",
   "metadata": {},
   "source": [
    "### 練習2：因式分解\n",
    "公式：\n",
    "$[ x^3 + 3x^2 + 3x + 1 ]$"
   ]
  },
  {
   "cell_type": "code",
   "execution_count": 5,
   "id": "62ed3f10",
   "metadata": {},
   "outputs": [
    {
     "data": {
      "text/latex": [
       "$\\displaystyle \\left(x + 1\\right)^{3}$"
      ],
      "text/plain": [
       "<IPython.core.display.Math object>"
      ]
     },
     "metadata": {},
     "output_type": "display_data"
    }
   ],
   "source": [
    "x = sp.symbols(\"x\")\n",
    "expr2 = x ** 3 + 3 * x ** 2 + 3 * x + 1\n",
    "f_expr2 = sp.factor(expr2)\n",
    "display(Math(sp.latex(f_expr2)))"
   ]
  },
  {
   "cell_type": "markdown",
   "id": "70d02ea3",
   "metadata": {},
   "source": [
    "### 練習3：代數簡化\n",
    "公式：\n",
    "$[ \\frac{x^2 - y^2}{x - y} ]$"
   ]
  },
  {
   "cell_type": "code",
   "execution_count": 8,
   "id": "310ced07",
   "metadata": {},
   "outputs": [
    {
     "data": {
      "text/latex": [
       "$\\displaystyle x + y$"
      ],
      "text/plain": [
       "<IPython.core.display.Math object>"
      ]
     },
     "metadata": {},
     "output_type": "display_data"
    }
   ],
   "source": [
    "x,y = sp.symbols(\"x y\")\n",
    "expr3 = (x**2 - y ** 2) / (x - y)\n",
    "simp_expr3 = sp.simplify(expr3)\n",
    "display(Math(sp.latex(simp_expr3)))"
   ]
  },
  {
   "cell_type": "markdown",
   "id": "436403a5",
   "metadata": {},
   "source": [
    "### 練習4：符號代入\n",
    "公式：\n",
    "$[ x^2 + y^2 ]$\n",
    "並代入 $( x = 1 )$ 和 $( y = 2 )$"
   ]
  },
  {
   "cell_type": "code",
   "execution_count": 5,
   "id": "25c7f021",
   "metadata": {},
   "outputs": [
    {
     "name": "stdout",
     "output_type": "stream",
     "text": [
      "5\n"
     ]
    },
    {
     "data": {
      "text/latex": [
       "$\\displaystyle 5$"
      ],
      "text/plain": [
       "<IPython.core.display.Math object>"
      ]
     },
     "metadata": {},
     "output_type": "display_data"
    }
   ],
   "source": [
    "import sympy.core.add as add\n",
    "x,y = sp.symbols(\"x y\")\n",
    "expr4:add.Add = x ** 2 + y ** 2\n",
    "#print(type(expr4))\n",
    "sub_expor4 =  expr4.subs(x,1).subs(y,2)\n",
    "print(sub_expor4)\n",
    "display(Math(str(sub_expor4)))"
   ]
  },
  {
   "cell_type": "markdown",
   "id": "2e7758a8",
   "metadata": {},
   "source": [
    "### 練習5：求根\n",
    "公式：\n",
    "$[ x^2 - 4 = 0 ]$"
   ]
  },
  {
   "cell_type": "code",
   "execution_count": 7,
   "id": "3667e651",
   "metadata": {},
   "outputs": [
    {
     "name": "stdout",
     "output_type": "stream",
     "text": [
      "[-2, 2]\n"
     ]
    }
   ],
   "source": [
    "x = sp.symbols(\"x\")\n",
    "expor5 = x ** 2 - 4\n",
    "sqrt_expor5 = sp.solve(expor5)\n",
    "print(sqrt_expor5)"
   ]
  },
  {
   "cell_type": "markdown",
   "id": "8fa8fab7",
   "metadata": {},
   "source": [
    "1. \\( 2x - 3y = 1 \\)\n",
    "2. \\( x + y = 2 \\)"
   ]
  },
  {
   "cell_type": "code",
   "execution_count": 8,
   "id": "9dc63f99",
   "metadata": {},
   "outputs": [
    {
     "name": "stdout",
     "output_type": "stream",
     "text": [
      "{x: 7/5, y: 3/5}\n"
     ]
    }
   ],
   "source": [
    "x,y = sp.symbols(\"x y\")\n",
    "eq2_1 = sp.Eq(2 * x - 3 * y ,1)\n",
    "eq2_2 = sp.Eq(x + y , 2)\n",
    "solut1 = sp.solve((eq2_1,eq2_2),(x,y))\n",
    "print(solut1)"
   ]
  },
  {
   "cell_type": "markdown",
   "id": "30806edc",
   "metadata": {},
   "source": [
    "## 微分\n",
    "\n",
    "- $ f(x) = \\text{常數} \\implies f'(x) = 0 $\n",
    "\n",
    "- 次方：$ f(x) = x^n \\implies f'(x) = nx^{n-1} $\n",
    "\n",
    "- 函數：$ f(x) = Cg(x) \\implies f'(x) = Cg'(x) $\n",
    "\n",
    "- 兩個函數：$ f(x) = g(x) + h(x) \\implies f'(x) = g'(x) + h'(x) $\n",
    "\n",
    "- 乘積：\n",
    "  $ \\frac{d}{dx}[f(x)g(x)] = f'(x)g(x) + f(x)g'(x) $\n",
    "\n",
    "- 商：\n",
    "  $ r(x) = \\frac{s(x)}{t(x)} \\implies r'(x) = \\frac{s'(x)t(x) - s(x)t'(x)}{[t(x)]^2} $\n",
    "\n",
    "- 連鎖律(Chain Rule)：\n",
    "  $ \\frac{d}{dx}[o(i(x))] = o'(i(x)) \\cdot i'(x) $"
   ]
  },
  {
   "cell_type": "markdown",
   "id": "178ab4bb",
   "metadata": {},
   "source": [
    "### 練習1：一般微分\n",
    "$ f(x) = x^4 + 3x^3 + x^2 + x + 1  $"
   ]
  },
  {
   "cell_type": "code",
   "execution_count": 9,
   "id": "ed560906",
   "metadata": {},
   "outputs": [
    {
     "data": {
      "text/latex": [
       "$\\displaystyle 4 x^{3} + 9 x^{2} + 2 x + 1$"
      ],
      "text/plain": [
       "<IPython.core.display.Math object>"
      ]
     },
     "metadata": {},
     "output_type": "display_data"
    }
   ],
   "source": [
    "import sympy as sp\n",
    "from IPython.display import display,Math\n",
    "x = sp.symbols(\"x\")\n",
    "f1 = x ** 4 + 3 * x ** 3 + x ** 2 + x + 1\n",
    "fi_diff = sp.diff(f1,x)\n",
    "display(Math(sp.latex(fi_diff)))\n"
   ]
  },
  {
   "cell_type": "markdown",
   "id": "3e64b44f",
   "metadata": {},
   "source": [
    "### 微分\n",
    "$ g(x) = e^x + \\ln(x)$"
   ]
  },
  {
   "cell_type": "code",
   "execution_count": 11,
   "id": "9fc017b5",
   "metadata": {},
   "outputs": [
    {
     "data": {
      "text/latex": [
       "$\\displaystyle e^{x} + \\frac{1}{x}$"
      ],
      "text/plain": [
       "<IPython.core.display.Math object>"
      ]
     },
     "metadata": {},
     "output_type": "display_data"
    }
   ],
   "source": [
    "import sympy as sp\n",
    "from IPython.display import display,Math\n",
    "x = sp.symbols(\"x\")\n",
    "f2 = sp.exp(x) + sp.ln(x)\n",
    "f2_diff = sp.diff(f2,x)\n",
    "display(Math(sp.latex(f2_diff)))"
   ]
  },
  {
   "cell_type": "markdown",
   "id": "5cb2a416",
   "metadata": {},
   "source": [
    "### 練習2：乘法法則\n",
    "$h(x) = (x^2 + 1)(x^3 + x)$"
   ]
  },
  {
   "cell_type": "code",
   "execution_count": 13,
   "id": "073d0c9a",
   "metadata": {},
   "outputs": [
    {
     "data": {
      "text/latex": [
       "$\\displaystyle 2 x \\left(x^{3} + x\\right) + \\left(x^{2} + 1\\right) \\left(3 x^{2} + 1\\right)$"
      ],
      "text/plain": [
       "<IPython.core.display.Math object>"
      ]
     },
     "metadata": {},
     "output_type": "display_data"
    }
   ],
   "source": [
    "x = sp.symbols(\"x\")\n",
    "f3 = (x ** 2 + 1) * (x ** 3 + x)\n",
    "f3_diff = sp.diff(f3,x)\n",
    "display(Math(sp.latex(f3_diff)))\n"
   ]
  },
  {
   "cell_type": "markdown",
   "id": "b8517004",
   "metadata": {},
   "source": [
    "### 除法法則\n",
    "$k(x) = \\frac{x^3 + x}{x + 1}$"
   ]
  },
  {
   "cell_type": "code",
   "execution_count": 14,
   "id": "bf3af6d6",
   "metadata": {},
   "outputs": [
    {
     "data": {
      "text/latex": [
       "$\\displaystyle \\frac{x^{3} + x}{x + 1}$"
      ],
      "text/plain": [
       "<IPython.core.display.Math object>"
      ]
     },
     "metadata": {},
     "output_type": "display_data"
    },
    {
     "data": {
      "text/latex": [
       "$\\displaystyle \\frac{3 x^{2} + 1}{x + 1} - \\frac{x^{3} + x}{\\left(x + 1\\right)^{2}}$"
      ],
      "text/plain": [
       "<IPython.core.display.Math object>"
      ]
     },
     "metadata": {},
     "output_type": "display_data"
    }
   ],
   "source": [
    "x = sp.symbols(\"x\")\n",
    "f5 = (x**3 + x) / (x + 1)\n",
    "f5_diff = sp.diff(f5,x)\n",
    "display(Math(sp.latex(f5)))\n",
    "display(Math(sp.latex(f5_diff)))"
   ]
  },
  {
   "cell_type": "markdown",
   "id": "c8f187fd",
   "metadata": {},
   "source": [
    "### 練習5：連鎖律\n",
    "$ m(x) = (x^2 + 1)^3 $"
   ]
  },
  {
   "cell_type": "code",
   "execution_count": 15,
   "id": "03b710ee",
   "metadata": {},
   "outputs": [
    {
     "data": {
      "text/latex": [
       "$\\displaystyle 6 x \\left(x^{2} + 1\\right)^{2}$"
      ],
      "text/plain": [
       "<IPython.core.display.Math object>"
      ]
     },
     "metadata": {},
     "output_type": "display_data"
    }
   ],
   "source": [
    "f6 = (x ** 2 + 1) ** 3\n",
    "x = sp.symbols(\"x\")\n",
    "f6_diff = sp.diff(f6,x)\n",
    "display(Math(sp.latex(f6_diff)))"
   ]
  },
  {
   "cell_type": "markdown",
   "id": "1d2003bf",
   "metadata": {},
   "source": [
    "## 偏微分"
   ]
  },
  {
   "cell_type": "markdown",
   "id": "f7e2da6b",
   "metadata": {},
   "source": [
    "### 一般偏微分\n",
    "$ f(x, y) = x^2 + 3xy + y^2 $"
   ]
  },
  {
   "cell_type": "code",
   "execution_count": 16,
   "id": "6b2fd78c",
   "metadata": {},
   "outputs": [
    {
     "data": {
      "text/latex": [
       "$\\displaystyle 2 x + 3 y$"
      ],
      "text/plain": [
       "<IPython.core.display.Math object>"
      ]
     },
     "metadata": {},
     "output_type": "display_data"
    },
    {
     "data": {
      "text/latex": [
       "$\\displaystyle 3 x + 2 y$"
      ],
      "text/plain": [
       "<IPython.core.display.Math object>"
      ]
     },
     "metadata": {},
     "output_type": "display_data"
    }
   ],
   "source": [
    "import sympy as sp\n",
    "from IPython.display import display, Math\n",
    "x,y = sp.symbols(\"x y\")\n",
    "f1 = x ** 2 + 3*x *y + y **2\n",
    "f1_diff_x = sp.diff(f1,x)\n",
    "f1_diff_y = sp.diff(f1,y)\n",
    "\n",
    "display(Math(sp.latex(f1_diff_x)))\n",
    "display(Math(sp.latex(f1_diff_y)))"
   ]
  },
  {
   "attachments": {
    "image-2.png": {
     "image/png": "[encoded data removed]"
    },
    "image.png": {
     "image/png": "[encoded data removed]"
    }
   },
   "cell_type": "markdown",
   "id": "26d16067",
   "metadata": {},
   "source": [
    "![image.png](attachment:image.png)\n",
    "\n",
    "![image-2.png](attachment:image-2.png)"
   ]
  },
  {
   "cell_type": "code",
   "execution_count": 17,
   "id": "9b8d298c",
   "metadata": {},
   "outputs": [
    {
     "data": {
      "text/latex": [
       "$\\displaystyle 20 x^{3} - 6 x + 7$"
      ],
      "text/plain": [
       "<IPython.core.display.Math object>"
      ]
     },
     "metadata": {},
     "output_type": "display_data"
    }
   ],
   "source": [
    "import sympy as sp\n",
    "from IPython.display import display, Math\n",
    "x = sp.symbols(\"x\")\n",
    "f = 5 * x **4 - 3 * x **2 + 7*x -10\n",
    "f_prime = sp.diff(f,x)\n",
    "display(Math(sp.latex(f_prime)))"
   ]
  },
  {
   "cell_type": "code",
   "execution_count": 18,
   "id": "9227414d",
   "metadata": {},
   "outputs": [
    {
     "data": {
      "text/latex": [
       "$\\displaystyle 2 e^{2 x} \\sin{\\left(x \\right)} + e^{2 x} \\cos{\\left(x \\right)}$"
      ],
      "text/plain": [
       "<IPython.core.display.Math object>"
      ]
     },
     "metadata": {},
     "output_type": "display_data"
    }
   ],
   "source": [
    "import sympy as sp\n",
    "from IPython.display import display, Math\n",
    "x = sp.symbols(\"x\")\n",
    "g = sp.exp(2 * x) * sp.sin(x)\n",
    "g_prime = sp.diff(g,x)\n",
    "display(Math(sp.latex(g_prime)))"
   ]
  },
  {
   "cell_type": "code",
   "execution_count": null,
   "id": "1a71d210",
   "metadata": {},
   "outputs": [],
   "source": []
  }
 ],
 "metadata": {
  "kernelspec": {
   "display_name": "base",
   "language": "python",
   "name": "python3"
  },
  "language_info": {
   "codemirror_mode": {
    "name": "ipython",
    "version": 3
   },
   "file_extension": ".py",
   "mimetype": "text/x-python",
   "name": "python",
   "nbconvert_exporter": "python",
   "pygments_lexer": "ipython3",
   "version": "3.11.9"
  }
 },
 "nbformat": 4,
 "nbformat_minor": 5
}
